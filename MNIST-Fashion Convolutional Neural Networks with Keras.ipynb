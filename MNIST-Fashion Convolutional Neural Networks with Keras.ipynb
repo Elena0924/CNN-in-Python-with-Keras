{
 "cells": [
  {
   "cell_type": "code",
   "execution_count": 29,
   "metadata": {},
   "outputs": [],
   "source": [
    "import tensorflow as tf\n",
    "import keras\n",
    "from keras.models import Sequential\n",
    "from keras.layers import Dense, Dropout, Flatten\n",
    "from keras.layers import Conv2D, MaxPooling2D\n",
    "from keras.optimizers import Adadelta\n",
    "\n",
    "import matplotlib.pyplot as plt\n",
    "import numpy as np"
   ]
  },
  {
   "cell_type": "code",
   "execution_count": 30,
   "metadata": {},
   "outputs": [],
   "source": [
    "# Retrieve data using the built-in fashion_mnist dataset found within Keras. \n",
    "from keras.datasets import fashion_mnist\n",
    "(X_train, y_train), (X_test, y_test) = fashion_mnist.load_data()"
   ]
  },
  {
   "cell_type": "code",
   "execution_count": 25,
   "metadata": {},
   "outputs": [
    {
     "data": {
      "image/png": "[encoded data removed]",
      "text/plain": [
       "<Figure size 432x288 with 2 Axes>"
      ]
     },
     "metadata": {
      "needs_background": "light"
     },
     "output_type": "display_data"
    }
   ],
   "source": [
    "#Inspect the first image\n",
    "plt.figure()\n",
    "plt.imshow(X_train[0])\n",
    "plt.colorbar()\n",
    "plt.grid(False)\n",
    "plt.show()"
   ]
  },
  {
   "cell_type": "code",
   "execution_count": 31,
   "metadata": {},
   "outputs": [],
   "source": [
    "# get shape of original images\n",
    "img_rows, img_cols = X_train[0].shape\n",
    "\n",
    "# restructure arrays for (rows, columns, channels)\n",
    "X_train = X_train.reshape(X_train.shape[0], img_rows, img_cols, 1)\n",
    "X_test = X_test.reshape(X_test.shape[0], img_rows, img_cols, 1)\n",
    "\n",
    "# record new input shape for layers\n",
    "input_shape = (img_rows, img_cols, 1)\n",
    "\n",
    "X_train = X_train.astype('float32')\n",
    "X_test = X_test.astype('float32')\n",
    "\n",
    "X_train /= 255\n",
    "X_test /= 255\n",
    "\n",
    "y_train_cat = keras.utils.to_categorical(y_train, 10)\n",
    "y_test_cat = keras.utils.to_categorical(y_test, 10)"
   ]
  },
  {
   "cell_type": "code",
   "execution_count": 36,
   "metadata": {},
   "outputs": [],
   "source": [
    "# construct & compile CNN\n",
    "model = Sequential()\n",
    "model.add(\n",
    "  Conv2D(64, \n",
    "         kernel_size=(3, 3),\n",
    "         activation='relu',\n",
    "         input_shape=input_shape)\n",
    "         ) \n",
    "#2D convolutional layer leveraging 64 nodes and using a 3x3 filter\n",
    "\n",
    "model.add(\n",
    "  MaxPooling2D(\n",
    "    pool_size=(2, 2)\n",
    "    )\n",
    "  )\n",
    "#MaxPooling layer with a 2x2 kernel\n",
    "\n",
    "model.add(Dropout(0.25))\n",
    "model.add(Flatten())\n",
    "model.add(Dense(96, activation='relu'))\n",
    "model.add(Dropout(0.25))\n",
    "model.add(Dense(10, activation='softmax'))\n",
    "\n",
    "# Loss function (crossentropy) and Optimizer (Adadelta)\n",
    "model.compile(\n",
    "  loss=keras.losses.categorical_crossentropy,\n",
    "  optimizer=keras.optimizers.Adadelta(),\n",
    "  metrics=['accuracy']\n",
    "  )"
   ]
  },
  {
   "cell_type": "code",
   "execution_count": 37,
   "metadata": {},
   "outputs": [
    {
     "name": "stdout",
     "output_type": "stream",
     "text": [
      "Train on 60000 samples, validate on 10000 samples\n",
      "Epoch 1/10\n",
      "60000/60000 [==============================] - 25s 419us/step - loss: 0.5612 - accuracy: 0.8020 - val_loss: 0.3805 - val_accuracy: 0.8637\n",
      "Epoch 2/10\n",
      "60000/60000 [==============================] - 25s 411us/step - loss: 0.3612 - accuracy: 0.8716 - val_loss: 0.3289 - val_accuracy: 0.8776\n",
      "Epoch 3/10\n",
      "60000/60000 [==============================] - 26s 426us/step - loss: 0.3158 - accuracy: 0.8857 - val_loss: 0.2999 - val_accuracy: 0.8918\n",
      "Epoch 4/10\n",
      "60000/60000 [==============================] - 27s 449us/step - loss: 0.2891 - accuracy: 0.8956 - val_loss: 0.2938 - val_accuracy: 0.8917\n",
      "Epoch 5/10\n",
      "60000/60000 [==============================] - 28s 459us/step - loss: 0.2682 - accuracy: 0.9022 - val_loss: 0.2709 - val_accuracy: 0.8987\n",
      "Epoch 6/10\n",
      "60000/60000 [==============================] - 28s 468us/step - loss: 0.2516 - accuracy: 0.9081 - val_loss: 0.2754 - val_accuracy: 0.8995\n",
      "Epoch 7/10\n",
      "60000/60000 [==============================] - 28s 468us/step - loss: 0.2405 - accuracy: 0.9121 - val_loss: 0.2652 - val_accuracy: 0.9012\n",
      "Epoch 8/10\n",
      "60000/60000 [==============================] - 29s 476us/step - loss: 0.2306 - accuracy: 0.9154 - val_loss: 0.2585 - val_accuracy: 0.9056s - loss: 0.2309 - accu\n",
      "Epoch 9/10\n",
      "60000/60000 [==============================] - 28s 465us/step - loss: 0.2206 - accuracy: 0.9196 - val_loss: 0.2628 - val_accuracy: 0.9038\n",
      "Epoch 10/10\n",
      "60000/60000 [==============================] - 28s 467us/step - loss: 0.2115 - accuracy: 0.9225 - val_loss: 0.2620 - val_accuracy: 0.9025\n"
     ]
    },
    {
     "data": {
      "text/plain": [
       "<keras.callbacks.callbacks.History at 0x19294201f28>"
      ]
     },
     "execution_count": 37,
     "metadata": {},
     "output_type": "execute_result"
    }
   ],
   "source": [
    "# train the CNN\n",
    "model.fit(\n",
    "      X_train,\n",
    "      y_train_cat,\n",
    "      batch_size=128,\n",
    "      epochs=10,\n",
    "      verbose=1,\n",
    "      validation_data=(X_test, y_test_cat)\n",
    "      )"
   ]
  },
  {
   "cell_type": "code",
   "execution_count": 39,
   "metadata": {},
   "outputs": [
    {
     "name": "stdout",
     "output_type": "stream",
     "text": [
      "Model: \"sequential_1\"\n",
      "_________________________________________________________________\n",
      "Layer (type)                 Output Shape              Param #   \n",
      "=================================================================\n",
      "conv2d_1 (Conv2D)            (None, 26, 26, 64)        640       \n",
      "_________________________________________________________________\n",
      "max_pooling2d_1 (MaxPooling2 (None, 13, 13, 64)        0         \n",
      "_________________________________________________________________\n",
      "dropout_1 (Dropout)          (None, 13, 13, 64)        0         \n",
      "_________________________________________________________________\n",
      "flatten_1 (Flatten)          (None, 10816)             0         \n",
      "_________________________________________________________________\n",
      "dense_1 (Dense)              (None, 96)                1038432   \n",
      "_________________________________________________________________\n",
      "dropout_2 (Dropout)          (None, 96)                0         \n",
      "_________________________________________________________________\n",
      "dense_2 (Dense)              (None, 10)                970       \n",
      "=================================================================\n",
      "Total params: 1,040,042\n",
      "Trainable params: 1,040,042\n",
      "Non-trainable params: 0\n",
      "_________________________________________________________________\n"
     ]
    }
   ],
   "source": [
    "model.summary()"
   ]
  },
  {
   "cell_type": "code",
   "execution_count": 38,
   "metadata": {},
   "outputs": [
    {
     "name": "stdout",
     "output_type": "stream",
     "text": [
      "Test loss: 0.2619594150900841\n",
      "Test accuracy: 0.9024999737739563\n"
     ]
    }
   ],
   "source": [
    "# score the CNN\n",
    "score = model.evaluate(X_test, y_test_cat, verbose=0)\n",
    "print('Test loss:', score[0])\n",
    "print('Test accuracy:', score[1])"
   ]
  },
  {
   "cell_type": "code",
   "execution_count": 40,
   "metadata": {},
   "outputs": [
    {
     "data": {
      "image/png": "[encoded data removed]",
      "text/plain": [
       "<Figure size 1800x360 with 5 Axes>"
      ]
     },
     "metadata": {
      "needs_background": "light"
     },
     "output_type": "display_data"
    }
   ],
   "source": [
    "# visualize results\n",
    "items = {\n",
    "  0:'T-Shirt/Top',\n",
    "  1:'Trouser',\n",
    "  2:'Pullover', \n",
    "  3:'Dress',\n",
    "  4:'Coat',\n",
    "  5:'Sandal', \n",
    "  6:'Shirt',\n",
    "  7:'Sneaker', \n",
    "  8:'Bag',\n",
    "  9:'Ankle Boot'  \n",
    "  }\n",
    "\n",
    "plt.figure(figsize=(25,5))\n",
    "\n",
    "for i, y in enumerate(y_test[0:5]):\n",
    "  \n",
    "  yhat = model.predict(X_test[i].reshape(1,28,28,1))\n",
    "  \n",
    "  s = plt.subplot(1,5,i+1)\n",
    "  s.set_title('item = {0} (prob = {1:.2%})'.format( items[np.where(yhat == np.amax(yhat))[1][0]], np.amax(yhat)))\n",
    "  plt.imshow(X_test[i][:,:,0], cmap='gray') \n",
    "  \n",
    "display()"
   ]
  },
  {
   "cell_type": "code",
   "execution_count": null,
   "metadata": {},
   "outputs": [],
   "source": []
  }
 ],
 "metadata": {
  "kernelspec": {
   "display_name": "Python 3",
   "language": "python",
   "name": "python3"
  },
  "language_info": {
   "codemirror_mode": {
    "name": "ipython",
    "version": 3
   },
   "file_extension": ".py",
   "mimetype": "text/x-python",
   "name": "python",
   "nbconvert_exporter": "python",
   "pygments_lexer": "ipython3",
   "version": "3.7.3"
  }
 },
 "nbformat": 4,
 "nbformat_minor": 2
}
